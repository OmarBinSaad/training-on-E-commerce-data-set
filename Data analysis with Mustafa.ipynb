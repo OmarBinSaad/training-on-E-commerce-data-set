{
 "cells": [
  {
   "cell_type": "code",
   "execution_count": 1,
   "id": "6144dc83",
   "metadata": {},
   "outputs": [],
   "source": [
    "import pandas as pd\n",
    "import numpy as np\n",
    "import seaborn as sns\n",
    "import matplotlib.pyplot as plt\n",
    "%matplotlib inline\n",
    "plt.style.use(\"ggplot\")"
   ]
  },
  {
   "cell_type": "code",
   "execution_count": 4,
   "id": "9dcaf038",
   "metadata": {},
   "outputs": [],
   "source": [
    "ecom = pd.read_csv(\"datasets/datasets/ecommerce-purchases.csv\", low_memory=False)"
   ]
  },
  {
   "cell_type": "code",
   "execution_count": null,
   "id": "f66b6cd2",
   "metadata": {},
   "outputs": [],
   "source": []
  },
  {
   "cell_type": "code",
   "execution_count": 7,
   "id": "914c359a",
   "metadata": {
    "scrolled": true
   },
   "outputs": [
    {
     "data": {
      "text/html": [
       "<div>\n",
       "<style scoped>\n",
       "    .dataframe tbody tr th:only-of-type {\n",
       "        vertical-align: middle;\n",
       "    }\n",
       "\n",
       "    .dataframe tbody tr th {\n",
       "        vertical-align: top;\n",
       "    }\n",
       "\n",
       "    .dataframe thead th {\n",
       "        text-align: right;\n",
       "    }\n",
       "</style>\n",
       "<table border=\"1\" class=\"dataframe\">\n",
       "  <thead>\n",
       "    <tr style=\"text-align: right;\">\n",
       "      <th></th>\n",
       "      <th>Address</th>\n",
       "      <th>Lot</th>\n",
       "      <th>AM or PM</th>\n",
       "      <th>Browser Info</th>\n",
       "      <th>Company</th>\n",
       "      <th>Credit Card</th>\n",
       "      <th>CC Exp Date</th>\n",
       "      <th>CC Security Code</th>\n",
       "      <th>CC Provider</th>\n",
       "      <th>Email</th>\n",
       "      <th>Job</th>\n",
       "      <th>IP Address</th>\n",
       "      <th>Language</th>\n",
       "      <th>Purchase Price</th>\n",
       "    </tr>\n",
       "  </thead>\n",
       "  <tbody>\n",
       "    <tr>\n",
       "      <th>0</th>\n",
       "      <td>16629 Pace Camp Apt. 448\\nAlexisborough, NE 77...</td>\n",
       "      <td>46 in</td>\n",
       "      <td>PM</td>\n",
       "      <td>Opera/9.56.(X11; Linux x86_64; sl-SI) Presto/2...</td>\n",
       "      <td>Martinez-Herman</td>\n",
       "      <td>6011929061123406</td>\n",
       "      <td>02/20</td>\n",
       "      <td>900</td>\n",
       "      <td>JCB 16 digit</td>\n",
       "      <td>pdunlap@yahoo.com</td>\n",
       "      <td>Scientist, product/process development</td>\n",
       "      <td>149.146.147.205</td>\n",
       "      <td>el</td>\n",
       "      <td>98.14</td>\n",
       "    </tr>\n",
       "    <tr>\n",
       "      <th>1</th>\n",
       "      <td>9374 Jasmine Spurs Suite 508\\nSouth John, TN 8...</td>\n",
       "      <td>28 rn</td>\n",
       "      <td>PM</td>\n",
       "      <td>Opera/8.93.(Windows 98; Win 9x 4.90; en-US) Pr...</td>\n",
       "      <td>Fletcher, Richards and Whitaker</td>\n",
       "      <td>3337758169645356</td>\n",
       "      <td>11/18</td>\n",
       "      <td>561</td>\n",
       "      <td>Mastercard</td>\n",
       "      <td>anthony41@reed.com</td>\n",
       "      <td>Drilling engineer</td>\n",
       "      <td>15.160.41.51</td>\n",
       "      <td>fr</td>\n",
       "      <td>70.73</td>\n",
       "    </tr>\n",
       "  </tbody>\n",
       "</table>\n",
       "</div>"
      ],
      "text/plain": [
       "                                             Address    Lot AM or PM  \\\n",
       "0  16629 Pace Camp Apt. 448\\nAlexisborough, NE 77...  46 in       PM   \n",
       "1  9374 Jasmine Spurs Suite 508\\nSouth John, TN 8...  28 rn       PM   \n",
       "\n",
       "                                        Browser Info  \\\n",
       "0  Opera/9.56.(X11; Linux x86_64; sl-SI) Presto/2...   \n",
       "1  Opera/8.93.(Windows 98; Win 9x 4.90; en-US) Pr...   \n",
       "\n",
       "                           Company       Credit Card CC Exp Date  \\\n",
       "0                  Martinez-Herman  6011929061123406       02/20   \n",
       "1  Fletcher, Richards and Whitaker  3337758169645356       11/18   \n",
       "\n",
       "   CC Security Code   CC Provider               Email  \\\n",
       "0               900  JCB 16 digit   pdunlap@yahoo.com   \n",
       "1               561    Mastercard  anthony41@reed.com   \n",
       "\n",
       "                                      Job       IP Address Language  \\\n",
       "0  Scientist, product/process development  149.146.147.205       el   \n",
       "1                       Drilling engineer     15.160.41.51       fr   \n",
       "\n",
       "   Purchase Price  \n",
       "0           98.14  \n",
       "1           70.73  "
      ]
     },
     "execution_count": 7,
     "metadata": {},
     "output_type": "execute_result"
    }
   ],
   "source": [
    "ecom.head(2)"
   ]
  },
  {
   "cell_type": "code",
   "execution_count": 33,
   "id": "f0a71934",
   "metadata": {},
   "outputs": [
    {
     "data": {
      "text/html": [
       "<div>\n",
       "<style scoped>\n",
       "    .dataframe tbody tr th:only-of-type {\n",
       "        vertical-align: middle;\n",
       "    }\n",
       "\n",
       "    .dataframe tbody tr th {\n",
       "        vertical-align: top;\n",
       "    }\n",
       "\n",
       "    .dataframe thead th {\n",
       "        text-align: right;\n",
       "    }\n",
       "</style>\n",
       "<table border=\"1\" class=\"dataframe\">\n",
       "  <thead>\n",
       "    <tr style=\"text-align: right;\">\n",
       "      <th></th>\n",
       "      <th>Address</th>\n",
       "      <th>Lot</th>\n",
       "      <th>AM or PM</th>\n",
       "      <th>Browser Info</th>\n",
       "      <th>Company</th>\n",
       "      <th>Credit Card</th>\n",
       "      <th>CC Exp Date</th>\n",
       "      <th>CC Security Code</th>\n",
       "      <th>CC Provider</th>\n",
       "      <th>Email</th>\n",
       "      <th>Job</th>\n",
       "      <th>IP Address</th>\n",
       "      <th>Language</th>\n",
       "      <th>Purchase Price</th>\n",
       "    </tr>\n",
       "  </thead>\n",
       "  <tbody>\n",
       "    <tr>\n",
       "      <th>8922</th>\n",
       "      <td>78993 Davis Track\\nThomasfort, CO 74382</td>\n",
       "      <td>96 Lx</td>\n",
       "      <td>AM</td>\n",
       "      <td>Opera/9.58.(X11; Linux x86_64; it-IT) Presto/2...</td>\n",
       "      <td>Smith-Roach</td>\n",
       "      <td>342267481337972</td>\n",
       "      <td>09/21</td>\n",
       "      <td>138</td>\n",
       "      <td>American Express</td>\n",
       "      <td>sierra80@drake-crosby.com</td>\n",
       "      <td>Designer, blown glass/stained glass</td>\n",
       "      <td>103.229.220.98</td>\n",
       "      <td>en</td>\n",
       "      <td>64.59</td>\n",
       "    </tr>\n",
       "  </tbody>\n",
       "</table>\n",
       "</div>"
      ],
      "text/plain": [
       "                                      Address    Lot AM or PM  \\\n",
       "8922  78993 Davis Track\\nThomasfort, CO 74382  96 Lx       AM   \n",
       "\n",
       "                                           Browser Info      Company  \\\n",
       "8922  Opera/9.58.(X11; Linux x86_64; it-IT) Presto/2...  Smith-Roach   \n",
       "\n",
       "          Credit Card CC Exp Date  CC Security Code       CC Provider  \\\n",
       "8922  342267481337972       09/21               138  American Express   \n",
       "\n",
       "                          Email                                  Job  \\\n",
       "8922  sierra80@drake-crosby.com  Designer, blown glass/stained glass   \n",
       "\n",
       "          IP Address Language  Purchase Price  \n",
       "8922  103.229.220.98       en           64.59  "
      ]
     },
     "execution_count": 33,
     "metadata": {},
     "output_type": "execute_result"
    }
   ],
   "source": [
    "ecom.sample()"
   ]
  },
  {
   "cell_type": "code",
   "execution_count": 28,
   "id": "daa7c339",
   "metadata": {},
   "outputs": [
    {
     "data": {
      "text/plain": [
       "count    10000.00\n",
       "mean        50.35\n",
       "std         29.02\n",
       "min          0.00\n",
       "25%         25.15\n",
       "50%         50.50\n",
       "75%         75.77\n",
       "max         99.99\n",
       "Name: Purchase Price, dtype: float64"
      ]
     },
     "execution_count": 28,
     "metadata": {},
     "output_type": "execute_result"
    }
   ],
   "source": [
    "ecom[\"Purchase Price\"].describe().round(2)"
   ]
  },
  {
   "cell_type": "code",
   "execution_count": 18,
   "id": "445ecc64",
   "metadata": {},
   "outputs": [
    {
     "data": {
      "text/plain": [
       "50.34730200000025"
      ]
     },
     "execution_count": 18,
     "metadata": {},
     "output_type": "execute_result"
    }
   ],
   "source": [
    "ecom[\"Purchase Price\"].mean()"
   ]
  },
  {
   "cell_type": "code",
   "execution_count": 19,
   "id": "d3e539e9",
   "metadata": {},
   "outputs": [
    {
     "data": {
      "text/plain": [
       "99.99"
      ]
     },
     "execution_count": 19,
     "metadata": {},
     "output_type": "execute_result"
    }
   ],
   "source": [
    "ecom[\"Purchase Price\"].max()"
   ]
  },
  {
   "cell_type": "code",
   "execution_count": 20,
   "id": "ce7c8491",
   "metadata": {},
   "outputs": [
    {
     "data": {
      "text/plain": [
       "0.0"
      ]
     },
     "execution_count": 20,
     "metadata": {},
     "output_type": "execute_result"
    }
   ],
   "source": [
    "ecom[\"Purchase Price\"].min()"
   ]
  },
  {
   "cell_type": "code",
   "execution_count": 40,
   "id": "dbd0e3f6",
   "metadata": {},
   "outputs": [
    {
     "data": {
      "text/plain": [
       "de    1155\n",
       "ru    1155\n",
       "el    1137\n",
       "pt    1118\n",
       "en    1098\n",
       "fr    1097\n",
       "es    1095\n",
       "it    1086\n",
       "zh    1059\n",
       "Name: Language, dtype: int64"
      ]
     },
     "execution_count": 40,
     "metadata": {},
     "output_type": "execute_result"
    }
   ],
   "source": [
    "ecom[\"Language\"].value_counts()"
   ]
  },
  {
   "cell_type": "code",
   "execution_count": 42,
   "id": "f440a476",
   "metadata": {},
   "outputs": [
    {
     "data": {
      "text/plain": [
       "1098"
      ]
     },
     "execution_count": 42,
     "metadata": {},
     "output_type": "execute_result"
    }
   ],
   "source": [
    "len(ecom[ecom[\"Language\"] == \"en\"])"
   ]
  },
  {
   "cell_type": "code",
   "execution_count": 50,
   "id": "c507426c",
   "metadata": {},
   "outputs": [
    {
     "data": {
      "text/plain": [
       "Language\n",
       "de    1155\n",
       "el    1137\n",
       "en    1098\n",
       "es    1095\n",
       "fr    1097\n",
       "it    1086\n",
       "pt    1118\n",
       "ru    1155\n",
       "zh    1059\n",
       "dtype: int64"
      ]
     },
     "execution_count": 50,
     "metadata": {},
     "output_type": "execute_result"
    }
   ],
   "source": [
    "ecom.groupby(\"Language\").size()"
   ]
  },
  {
   "cell_type": "code",
   "execution_count": 51,
   "id": "447cc1ab",
   "metadata": {},
   "outputs": [
    {
     "data": {
      "text/plain": [
       "Interior and spatial designer    31\n",
       "Lawyer                           30\n",
       "Social researcher                28\n",
       "Purchasing manager               27\n",
       "Designer, jewellery              27\n",
       "                                 ..\n",
       "Prison officer                    7\n",
       "Editor, film/video                6\n",
       "Actuary                           6\n",
       "Information systems manager       5\n",
       "Investment analyst                5\n",
       "Name: Job, Length: 623, dtype: int64"
      ]
     },
     "execution_count": 51,
     "metadata": {},
     "output_type": "execute_result"
    }
   ],
   "source": [
    "ecom[\"Job\"].value_counts()"
   ]
  },
  {
   "cell_type": "code",
   "execution_count": 56,
   "id": "ee031e44",
   "metadata": {},
   "outputs": [
    {
     "data": {
      "text/plain": [
       "30"
      ]
     },
     "execution_count": 56,
     "metadata": {},
     "output_type": "execute_result"
    }
   ],
   "source": [
    "len(ecom[ecom[\"Job\"] == \"Lawyer\"])"
   ]
  },
  {
   "cell_type": "code",
   "execution_count": 57,
   "id": "57938f6b",
   "metadata": {},
   "outputs": [
    {
     "data": {
      "text/plain": [
       "AM or PM\n",
       "AM    4932\n",
       "PM    5068\n",
       "dtype: int64"
      ]
     },
     "execution_count": 57,
     "metadata": {},
     "output_type": "execute_result"
    }
   ],
   "source": [
    "ecom.groupby(\"AM or PM\").size()"
   ]
  },
  {
   "cell_type": "code",
   "execution_count": 58,
   "id": "25ecd28d",
   "metadata": {},
   "outputs": [
    {
     "data": {
      "text/plain": [
       "PM    5068\n",
       "AM    4932\n",
       "Name: AM or PM, dtype: int64"
      ]
     },
     "execution_count": 58,
     "metadata": {},
     "output_type": "execute_result"
    }
   ],
   "source": [
    "ecom[\"AM or PM\"].value_counts()"
   ]
  },
  {
   "cell_type": "code",
   "execution_count": 60,
   "id": "fd3a88b9",
   "metadata": {},
   "outputs": [
    {
     "data": {
      "text/plain": [
       "Interior and spatial designer    31\n",
       "Lawyer                           30\n",
       "Social researcher                28\n",
       "Purchasing manager               27\n",
       "Designer, jewellery              27\n",
       "                                 ..\n",
       "Prison officer                    7\n",
       "Editor, film/video                6\n",
       "Actuary                           6\n",
       "Information systems manager       5\n",
       "Investment analyst                5\n",
       "Name: Job, Length: 623, dtype: int64"
      ]
     },
     "execution_count": 60,
     "metadata": {},
     "output_type": "execute_result"
    }
   ],
   "source": [
    "ecom[\"Job\"].value_counts()"
   ]
  },
  {
   "cell_type": "code",
   "execution_count": 61,
   "id": "1877b78e",
   "metadata": {},
   "outputs": [
    {
     "data": {
      "text/plain": [
       "Interior and spatial designer    31\n",
       "Lawyer                           30\n",
       "Social researcher                28\n",
       "Purchasing manager               27\n",
       "Designer, jewellery              27\n",
       "Name: Job, dtype: int64"
      ]
     },
     "execution_count": 61,
     "metadata": {},
     "output_type": "execute_result"
    }
   ],
   "source": [
    "ecom[\"Job\"].value_counts().nlargest()"
   ]
  },
  {
   "cell_type": "code",
   "execution_count": 62,
   "id": "a2c86248",
   "metadata": {},
   "outputs": [
    {
     "data": {
      "text/plain": [
       "Interior and spatial designer        31\n",
       "Lawyer                               30\n",
       "Social researcher                    28\n",
       "Purchasing manager                   27\n",
       "Designer, jewellery                  27\n",
       "Research officer, political party    27\n",
       "Charity fundraiser                   26\n",
       "Designer, fashion/clothing           26\n",
       "Social worker                        26\n",
       "Dietitian                            26\n",
       "Name: Job, dtype: int64"
      ]
     },
     "execution_count": 62,
     "metadata": {},
     "output_type": "execute_result"
    }
   ],
   "source": [
    "ecom[\"Job\"].value_counts().nlargest(10)"
   ]
  },
  {
   "cell_type": "code",
   "execution_count": 63,
   "id": "ab2d4ae5",
   "metadata": {},
   "outputs": [
    {
     "data": {
      "text/plain": [
       "Information systems manager    5\n",
       "Investment analyst             5\n",
       "Editor, film/video             6\n",
       "Actuary                        6\n",
       "Music therapist                7\n",
       "Special effects artist         7\n",
       "Stage manager                  7\n",
       "Prison officer                 7\n",
       "Child psychotherapist          8\n",
       "Audiological scientist         8\n",
       "Name: Job, dtype: int64"
      ]
     },
     "execution_count": 63,
     "metadata": {},
     "output_type": "execute_result"
    }
   ],
   "source": [
    "ecom[\"Job\"].value_counts().nsmallest(10) # the smallest values nsmallest"
   ]
  },
  {
   "cell_type": "code",
   "execution_count": 77,
   "id": "abb31de3",
   "metadata": {},
   "outputs": [
    {
     "data": {
      "text/plain": [
       "1234    bondellen@williams-garza.com\n",
       "Name: Email, dtype: object"
      ]
     },
     "execution_count": 77,
     "metadata": {},
     "output_type": "execute_result"
    }
   ],
   "source": [
    "ecom[ecom[\"Credit Card\"] == 4926535242672853][\"Email\"]"
   ]
  },
  {
   "cell_type": "code",
   "execution_count": 81,
   "id": "609ac679",
   "metadata": {},
   "outputs": [
    {
     "data": {
      "text/html": [
       "<div>\n",
       "<style scoped>\n",
       "    .dataframe tbody tr th:only-of-type {\n",
       "        vertical-align: middle;\n",
       "    }\n",
       "\n",
       "    .dataframe tbody tr th {\n",
       "        vertical-align: top;\n",
       "    }\n",
       "\n",
       "    .dataframe thead th {\n",
       "        text-align: right;\n",
       "    }\n",
       "</style>\n",
       "<table border=\"1\" class=\"dataframe\">\n",
       "  <thead>\n",
       "    <tr style=\"text-align: right;\">\n",
       "      <th></th>\n",
       "      <th>Address</th>\n",
       "      <th>Lot</th>\n",
       "      <th>AM or PM</th>\n",
       "      <th>Browser Info</th>\n",
       "      <th>Company</th>\n",
       "      <th>Credit Card</th>\n",
       "      <th>CC Exp Date</th>\n",
       "      <th>CC Security Code</th>\n",
       "      <th>CC Provider</th>\n",
       "      <th>Email</th>\n",
       "      <th>Job</th>\n",
       "      <th>IP Address</th>\n",
       "      <th>Language</th>\n",
       "      <th>Purchase Price</th>\n",
       "    </tr>\n",
       "  </thead>\n",
       "  <tbody>\n",
       "    <tr>\n",
       "      <th>0</th>\n",
       "      <td>16629 Pace Camp Apt. 448\\nAlexisborough, NE 77...</td>\n",
       "      <td>46 in</td>\n",
       "      <td>PM</td>\n",
       "      <td>Opera/9.56.(X11; Linux x86_64; sl-SI) Presto/2...</td>\n",
       "      <td>Martinez-Herman</td>\n",
       "      <td>6011929061123406</td>\n",
       "      <td>02/20</td>\n",
       "      <td>900</td>\n",
       "      <td>JCB 16 digit</td>\n",
       "      <td>pdunlap@yahoo.com</td>\n",
       "      <td>Scientist, product/process development</td>\n",
       "      <td>149.146.147.205</td>\n",
       "      <td>el</td>\n",
       "      <td>98.14</td>\n",
       "    </tr>\n",
       "  </tbody>\n",
       "</table>\n",
       "</div>"
      ],
      "text/plain": [
       "                                             Address    Lot AM or PM  \\\n",
       "0  16629 Pace Camp Apt. 448\\nAlexisborough, NE 77...  46 in       PM   \n",
       "\n",
       "                                        Browser Info          Company  \\\n",
       "0  Opera/9.56.(X11; Linux x86_64; sl-SI) Presto/2...  Martinez-Herman   \n",
       "\n",
       "        Credit Card CC Exp Date  CC Security Code   CC Provider  \\\n",
       "0  6011929061123406       02/20               900  JCB 16 digit   \n",
       "\n",
       "               Email                                     Job       IP Address  \\\n",
       "0  pdunlap@yahoo.com  Scientist, product/process development  149.146.147.205   \n",
       "\n",
       "  Language  Purchase Price  \n",
       "0       el           98.14  "
      ]
     },
     "execution_count": 81,
     "metadata": {},
     "output_type": "execute_result"
    }
   ],
   "source": [
    "ecom.head(1)"
   ]
  },
  {
   "cell_type": "code",
   "execution_count": 98,
   "id": "b559850e",
   "metadata": {},
   "outputs": [
    {
     "data": {
      "text/html": [
       "<div>\n",
       "<style scoped>\n",
       "    .dataframe tbody tr th:only-of-type {\n",
       "        vertical-align: middle;\n",
       "    }\n",
       "\n",
       "    .dataframe tbody tr th {\n",
       "        vertical-align: top;\n",
       "    }\n",
       "\n",
       "    .dataframe thead th {\n",
       "        text-align: right;\n",
       "    }\n",
       "</style>\n",
       "<table border=\"1\" class=\"dataframe\">\n",
       "  <thead>\n",
       "    <tr style=\"text-align: right;\">\n",
       "      <th></th>\n",
       "      <th>Address</th>\n",
       "      <th>Lot</th>\n",
       "      <th>AM or PM</th>\n",
       "      <th>Browser Info</th>\n",
       "      <th>Company</th>\n",
       "      <th>Credit Card</th>\n",
       "      <th>CC Exp Date</th>\n",
       "      <th>CC Security Code</th>\n",
       "      <th>CC Provider</th>\n",
       "      <th>Email</th>\n",
       "      <th>Job</th>\n",
       "      <th>IP Address</th>\n",
       "      <th>Language</th>\n",
       "      <th>Purchase Price</th>\n",
       "    </tr>\n",
       "  </thead>\n",
       "  <tbody>\n",
       "    <tr>\n",
       "      <th>9</th>\n",
       "      <td>3795 Dawson Extensions\\nLake Tinafort, ID 88739</td>\n",
       "      <td>15 Ug</td>\n",
       "      <td>AM</td>\n",
       "      <td>Mozilla/5.0 (X11; Linux i686; rv:1.9.7.20) Gec...</td>\n",
       "      <td>Rivera, Buchanan and Ramirez</td>\n",
       "      <td>4396283918371</td>\n",
       "      <td>01/17</td>\n",
       "      <td>931</td>\n",
       "      <td>American Express</td>\n",
       "      <td>qcoleman@hunt-huerta.com</td>\n",
       "      <td>Forensic scientist</td>\n",
       "      <td>236.198.199.8</td>\n",
       "      <td>zh</td>\n",
       "      <td>95.63</td>\n",
       "    </tr>\n",
       "    <tr>\n",
       "      <th>17</th>\n",
       "      <td>950 Jacqueline Village Apt. 592\\nPort Kimberly...</td>\n",
       "      <td>23 Rh</td>\n",
       "      <td>PM</td>\n",
       "      <td>Mozilla/5.0 (compatible; MSIE 9.0; Windows NT ...</td>\n",
       "      <td>Fernandez, Melton and Gilbert</td>\n",
       "      <td>3337515540944084</td>\n",
       "      <td>01/26</td>\n",
       "      <td>771</td>\n",
       "      <td>American Express</td>\n",
       "      <td>stacymitchell@hall.com</td>\n",
       "      <td>Designer, jewellery</td>\n",
       "      <td>223.25.125.61</td>\n",
       "      <td>el</td>\n",
       "      <td>58.68</td>\n",
       "    </tr>\n",
       "    <tr>\n",
       "      <th>37</th>\n",
       "      <td>86777 Mary Crescent\\nCarloshaven, KY 48326</td>\n",
       "      <td>10 LL</td>\n",
       "      <td>AM</td>\n",
       "      <td>Mozilla/5.0 (compatible; MSIE 9.0; Windows 98;...</td>\n",
       "      <td>Lawson, Rodriguez and Ramirez</td>\n",
       "      <td>180062205588942</td>\n",
       "      <td>06/18</td>\n",
       "      <td>902</td>\n",
       "      <td>American Express</td>\n",
       "      <td>marc20@frederick.info</td>\n",
       "      <td>Psychologist, occupational</td>\n",
       "      <td>17.202.105.185</td>\n",
       "      <td>es</td>\n",
       "      <td>80.42</td>\n",
       "    </tr>\n",
       "    <tr>\n",
       "      <th>45</th>\n",
       "      <td>096 Edwards Valleys Suite 917\\nPerkinsberg, LA...</td>\n",
       "      <td>07 Cd</td>\n",
       "      <td>PM</td>\n",
       "      <td>Mozilla/5.0 (Windows NT 6.2) AppleWebKit/5312 ...</td>\n",
       "      <td>Jackson-Allen</td>\n",
       "      <td>869978354045368</td>\n",
       "      <td>03/26</td>\n",
       "      <td>406</td>\n",
       "      <td>American Express</td>\n",
       "      <td>gregorygarner@chambers.com</td>\n",
       "      <td>Games developer</td>\n",
       "      <td>222.242.66.78</td>\n",
       "      <td>es</td>\n",
       "      <td>18.69</td>\n",
       "    </tr>\n",
       "    <tr>\n",
       "      <th>51</th>\n",
       "      <td>735 Gaines Plains\\nRyanfurt, GU 29451-6616</td>\n",
       "      <td>50 Ds</td>\n",
       "      <td>PM</td>\n",
       "      <td>Mozilla/5.0 (X11; Linux x86_64; rv:1.9.6.20) G...</td>\n",
       "      <td>Howard, Garcia and Jones</td>\n",
       "      <td>4332227215237678</td>\n",
       "      <td>10/17</td>\n",
       "      <td>975</td>\n",
       "      <td>American Express</td>\n",
       "      <td>vincentgriffith@cook-castillo.com</td>\n",
       "      <td>Tourist information centre manager</td>\n",
       "      <td>142.171.212.118</td>\n",
       "      <td>es</td>\n",
       "      <td>93.22</td>\n",
       "    </tr>\n",
       "    <tr>\n",
       "      <th>...</th>\n",
       "      <td>...</td>\n",
       "      <td>...</td>\n",
       "      <td>...</td>\n",
       "      <td>...</td>\n",
       "      <td>...</td>\n",
       "      <td>...</td>\n",
       "      <td>...</td>\n",
       "      <td>...</td>\n",
       "      <td>...</td>\n",
       "      <td>...</td>\n",
       "      <td>...</td>\n",
       "      <td>...</td>\n",
       "      <td>...</td>\n",
       "      <td>...</td>\n",
       "    </tr>\n",
       "    <tr>\n",
       "      <th>9942</th>\n",
       "      <td>03874 Richard Isle\\nNew Steven, TX 25541</td>\n",
       "      <td>13 An</td>\n",
       "      <td>PM</td>\n",
       "      <td>Mozilla/5.0 (X11; Linux i686; rv:1.9.6.20) Gec...</td>\n",
       "      <td>Ramirez, Guzman and Haas</td>\n",
       "      <td>5267192165840820</td>\n",
       "      <td>11/18</td>\n",
       "      <td>817</td>\n",
       "      <td>American Express</td>\n",
       "      <td>allisonlee@hotmail.com</td>\n",
       "      <td>Journalist, broadcasting</td>\n",
       "      <td>233.73.80.19</td>\n",
       "      <td>ru</td>\n",
       "      <td>7.00</td>\n",
       "    </tr>\n",
       "    <tr>\n",
       "      <th>9944</th>\n",
       "      <td>67427 Mitchell Roads Apt. 905\\nEast Christinev...</td>\n",
       "      <td>13 mI</td>\n",
       "      <td>AM</td>\n",
       "      <td>Mozilla/5.0 (Windows 98; Win 9x 4.90) AppleWeb...</td>\n",
       "      <td>Stark, Gould and Martinez</td>\n",
       "      <td>344398083231798</td>\n",
       "      <td>04/19</td>\n",
       "      <td>878</td>\n",
       "      <td>American Express</td>\n",
       "      <td>mjackson@brown.info</td>\n",
       "      <td>General practice doctor</td>\n",
       "      <td>98.249.163.137</td>\n",
       "      <td>it</td>\n",
       "      <td>17.13</td>\n",
       "    </tr>\n",
       "    <tr>\n",
       "      <th>9965</th>\n",
       "      <td>2268 Austin Village Apt. 542\\nWest Meghan, CA ...</td>\n",
       "      <td>03 hK</td>\n",
       "      <td>AM</td>\n",
       "      <td>Opera/8.21.(Windows NT 5.1; en-US) Presto/2.9....</td>\n",
       "      <td>Berry-Anderson</td>\n",
       "      <td>5397000698055050</td>\n",
       "      <td>02/26</td>\n",
       "      <td>836</td>\n",
       "      <td>American Express</td>\n",
       "      <td>michellejenkins@hotmail.com</td>\n",
       "      <td>Commercial/residential surveyor</td>\n",
       "      <td>149.81.82.218</td>\n",
       "      <td>es</td>\n",
       "      <td>61.46</td>\n",
       "    </tr>\n",
       "    <tr>\n",
       "      <th>9973</th>\n",
       "      <td>92126 Daniel Streets\\nNorth Patricia, IA 10477</td>\n",
       "      <td>04 QN</td>\n",
       "      <td>PM</td>\n",
       "      <td>Mozilla/5.0 (Windows NT 5.2) AppleWebKit/5362 ...</td>\n",
       "      <td>Morrow Inc</td>\n",
       "      <td>501850922854</td>\n",
       "      <td>02/19</td>\n",
       "      <td>2708</td>\n",
       "      <td>American Express</td>\n",
       "      <td>rlewis@yahoo.com</td>\n",
       "      <td>Editor, magazine features</td>\n",
       "      <td>201.88.164.123</td>\n",
       "      <td>en</td>\n",
       "      <td>83.30</td>\n",
       "    </tr>\n",
       "    <tr>\n",
       "      <th>9998</th>\n",
       "      <td>0096 English Rest\\nRoystad, IA 12457</td>\n",
       "      <td>74 cL</td>\n",
       "      <td>PM</td>\n",
       "      <td>Mozilla/5.0 (Macintosh; Intel Mac OS X 10_8_8;...</td>\n",
       "      <td>Cook Inc</td>\n",
       "      <td>180003348082930</td>\n",
       "      <td>11/17</td>\n",
       "      <td>987</td>\n",
       "      <td>American Express</td>\n",
       "      <td>elizabethmoore@reid.net</td>\n",
       "      <td>Local government officer</td>\n",
       "      <td>55.78.26.143</td>\n",
       "      <td>es</td>\n",
       "      <td>38.84</td>\n",
       "    </tr>\n",
       "  </tbody>\n",
       "</table>\n",
       "<p>849 rows × 14 columns</p>\n",
       "</div>"
      ],
      "text/plain": [
       "                                                Address    Lot AM or PM  \\\n",
       "9       3795 Dawson Extensions\\nLake Tinafort, ID 88739  15 Ug       AM   \n",
       "17    950 Jacqueline Village Apt. 592\\nPort Kimberly...  23 Rh       PM   \n",
       "37           86777 Mary Crescent\\nCarloshaven, KY 48326  10 LL       AM   \n",
       "45    096 Edwards Valleys Suite 917\\nPerkinsberg, LA...  07 Cd       PM   \n",
       "51           735 Gaines Plains\\nRyanfurt, GU 29451-6616  50 Ds       PM   \n",
       "...                                                 ...    ...      ...   \n",
       "9942           03874 Richard Isle\\nNew Steven, TX 25541  13 An       PM   \n",
       "9944  67427 Mitchell Roads Apt. 905\\nEast Christinev...  13 mI       AM   \n",
       "9965  2268 Austin Village Apt. 542\\nWest Meghan, CA ...  03 hK       AM   \n",
       "9973     92126 Daniel Streets\\nNorth Patricia, IA 10477  04 QN       PM   \n",
       "9998               0096 English Rest\\nRoystad, IA 12457  74 cL       PM   \n",
       "\n",
       "                                           Browser Info  \\\n",
       "9     Mozilla/5.0 (X11; Linux i686; rv:1.9.7.20) Gec...   \n",
       "17    Mozilla/5.0 (compatible; MSIE 9.0; Windows NT ...   \n",
       "37    Mozilla/5.0 (compatible; MSIE 9.0; Windows 98;...   \n",
       "45    Mozilla/5.0 (Windows NT 6.2) AppleWebKit/5312 ...   \n",
       "51    Mozilla/5.0 (X11; Linux x86_64; rv:1.9.6.20) G...   \n",
       "...                                                 ...   \n",
       "9942  Mozilla/5.0 (X11; Linux i686; rv:1.9.6.20) Gec...   \n",
       "9944  Mozilla/5.0 (Windows 98; Win 9x 4.90) AppleWeb...   \n",
       "9965  Opera/8.21.(Windows NT 5.1; en-US) Presto/2.9....   \n",
       "9973  Mozilla/5.0 (Windows NT 5.2) AppleWebKit/5362 ...   \n",
       "9998  Mozilla/5.0 (Macintosh; Intel Mac OS X 10_8_8;...   \n",
       "\n",
       "                            Company       Credit Card CC Exp Date  \\\n",
       "9      Rivera, Buchanan and Ramirez     4396283918371       01/17   \n",
       "17    Fernandez, Melton and Gilbert  3337515540944084       01/26   \n",
       "37    Lawson, Rodriguez and Ramirez   180062205588942       06/18   \n",
       "45                    Jackson-Allen   869978354045368       03/26   \n",
       "51         Howard, Garcia and Jones  4332227215237678       10/17   \n",
       "...                             ...               ...         ...   \n",
       "9942       Ramirez, Guzman and Haas  5267192165840820       11/18   \n",
       "9944      Stark, Gould and Martinez   344398083231798       04/19   \n",
       "9965                 Berry-Anderson  5397000698055050       02/26   \n",
       "9973                     Morrow Inc      501850922854       02/19   \n",
       "9998                       Cook Inc   180003348082930       11/17   \n",
       "\n",
       "      CC Security Code       CC Provider                              Email  \\\n",
       "9                  931  American Express           qcoleman@hunt-huerta.com   \n",
       "17                 771  American Express             stacymitchell@hall.com   \n",
       "37                 902  American Express              marc20@frederick.info   \n",
       "45                 406  American Express         gregorygarner@chambers.com   \n",
       "51                 975  American Express  vincentgriffith@cook-castillo.com   \n",
       "...                ...               ...                                ...   \n",
       "9942               817  American Express             allisonlee@hotmail.com   \n",
       "9944               878  American Express                mjackson@brown.info   \n",
       "9965               836  American Express        michellejenkins@hotmail.com   \n",
       "9973              2708  American Express                   rlewis@yahoo.com   \n",
       "9998               987  American Express            elizabethmoore@reid.net   \n",
       "\n",
       "                                     Job       IP Address Language  \\\n",
       "9                     Forensic scientist    236.198.199.8       zh   \n",
       "17                   Designer, jewellery    223.25.125.61       el   \n",
       "37            Psychologist, occupational   17.202.105.185       es   \n",
       "45                       Games developer    222.242.66.78       es   \n",
       "51    Tourist information centre manager  142.171.212.118       es   \n",
       "...                                  ...              ...      ...   \n",
       "9942            Journalist, broadcasting     233.73.80.19       ru   \n",
       "9944             General practice doctor   98.249.163.137       it   \n",
       "9965     Commercial/residential surveyor    149.81.82.218       es   \n",
       "9973           Editor, magazine features   201.88.164.123       en   \n",
       "9998            Local government officer     55.78.26.143       es   \n",
       "\n",
       "      Purchase Price  \n",
       "9              95.63  \n",
       "17             58.68  \n",
       "37             80.42  \n",
       "45             18.69  \n",
       "51             93.22  \n",
       "...              ...  \n",
       "9942            7.00  \n",
       "9944           17.13  \n",
       "9965           61.46  \n",
       "9973           83.30  \n",
       "9998           38.84  \n",
       "\n",
       "[849 rows x 14 columns]"
      ]
     },
     "execution_count": 98,
     "metadata": {},
     "output_type": "execute_result"
    }
   ],
   "source": [
    "ecom[ecom[\"CC Provider\"] == \"American Express\"]"
   ]
  },
  {
   "cell_type": "code",
   "execution_count": 101,
   "id": "38e17856",
   "metadata": {},
   "outputs": [
    {
     "data": {
      "text/html": [
       "<div>\n",
       "<style scoped>\n",
       "    .dataframe tbody tr th:only-of-type {\n",
       "        vertical-align: middle;\n",
       "    }\n",
       "\n",
       "    .dataframe tbody tr th {\n",
       "        vertical-align: top;\n",
       "    }\n",
       "\n",
       "    .dataframe thead th {\n",
       "        text-align: right;\n",
       "    }\n",
       "</style>\n",
       "<table border=\"1\" class=\"dataframe\">\n",
       "  <thead>\n",
       "    <tr style=\"text-align: right;\">\n",
       "      <th></th>\n",
       "      <th>Address</th>\n",
       "      <th>Lot</th>\n",
       "      <th>AM or PM</th>\n",
       "      <th>Browser Info</th>\n",
       "      <th>Company</th>\n",
       "      <th>Credit Card</th>\n",
       "      <th>CC Exp Date</th>\n",
       "      <th>CC Security Code</th>\n",
       "      <th>CC Provider</th>\n",
       "      <th>Email</th>\n",
       "      <th>Job</th>\n",
       "      <th>IP Address</th>\n",
       "      <th>Language</th>\n",
       "      <th>Purchase Price</th>\n",
       "    </tr>\n",
       "  </thead>\n",
       "  <tbody>\n",
       "    <tr>\n",
       "      <th>0</th>\n",
       "      <td>16629 Pace Camp Apt. 448\\nAlexisborough, NE 77...</td>\n",
       "      <td>46 in</td>\n",
       "      <td>PM</td>\n",
       "      <td>Opera/9.56.(X11; Linux x86_64; sl-SI) Presto/2...</td>\n",
       "      <td>Martinez-Herman</td>\n",
       "      <td>6011929061123406</td>\n",
       "      <td>02/20</td>\n",
       "      <td>900</td>\n",
       "      <td>JCB 16 digit</td>\n",
       "      <td>pdunlap@yahoo.com</td>\n",
       "      <td>Scientist, product/process development</td>\n",
       "      <td>149.146.147.205</td>\n",
       "      <td>el</td>\n",
       "      <td>98.14</td>\n",
       "    </tr>\n",
       "    <tr>\n",
       "      <th>9</th>\n",
       "      <td>3795 Dawson Extensions\\nLake Tinafort, ID 88739</td>\n",
       "      <td>15 Ug</td>\n",
       "      <td>AM</td>\n",
       "      <td>Mozilla/5.0 (X11; Linux i686; rv:1.9.7.20) Gec...</td>\n",
       "      <td>Rivera, Buchanan and Ramirez</td>\n",
       "      <td>4396283918371</td>\n",
       "      <td>01/17</td>\n",
       "      <td>931</td>\n",
       "      <td>American Express</td>\n",
       "      <td>qcoleman@hunt-huerta.com</td>\n",
       "      <td>Forensic scientist</td>\n",
       "      <td>236.198.199.8</td>\n",
       "      <td>zh</td>\n",
       "      <td>95.63</td>\n",
       "    </tr>\n",
       "    <tr>\n",
       "      <th>10</th>\n",
       "      <td>650 Elizabeth Park\\nLake Maria, LA 13526-2530</td>\n",
       "      <td>65 Yn</td>\n",
       "      <td>PM</td>\n",
       "      <td>Mozilla/5.0 (iPod; U; CPU iPhone OS 4_1 like M...</td>\n",
       "      <td>Strickland, Michael and Gonzales</td>\n",
       "      <td>180036417827355</td>\n",
       "      <td>02/17</td>\n",
       "      <td>754</td>\n",
       "      <td>Voyager</td>\n",
       "      <td>ustewart@hotmail.com</td>\n",
       "      <td>Development worker, community</td>\n",
       "      <td>26.59.93.1</td>\n",
       "      <td>el</td>\n",
       "      <td>96.89</td>\n",
       "    </tr>\n",
       "    <tr>\n",
       "      <th>23</th>\n",
       "      <td>25292 Shepherd Trail Apt. 798\\nRussellmouth, S...</td>\n",
       "      <td>31 pS</td>\n",
       "      <td>PM</td>\n",
       "      <td>Mozilla/5.0 (compatible; MSIE 5.0; Windows 98;...</td>\n",
       "      <td>Cruz Inc</td>\n",
       "      <td>502010078983</td>\n",
       "      <td>02/23</td>\n",
       "      <td>60</td>\n",
       "      <td>VISA 13 digit</td>\n",
       "      <td>ltaylor@gardner-meadows.com</td>\n",
       "      <td>Field seismologist</td>\n",
       "      <td>25.193.145.116</td>\n",
       "      <td>ru</td>\n",
       "      <td>97.97</td>\n",
       "    </tr>\n",
       "    <tr>\n",
       "      <th>35</th>\n",
       "      <td>93392 Webb Gardens Apt. 220\\nLaurabury, AR 999...</td>\n",
       "      <td>37 om</td>\n",
       "      <td>AM</td>\n",
       "      <td>Mozilla/5.0 (Macintosh; U; Intel Mac OS X 10_7...</td>\n",
       "      <td>Mora Ltd</td>\n",
       "      <td>6011049630969815</td>\n",
       "      <td>09/16</td>\n",
       "      <td>367</td>\n",
       "      <td>Mastercard</td>\n",
       "      <td>hgonzalez@mcdowell.com</td>\n",
       "      <td>Lecturer, further education</td>\n",
       "      <td>216.23.95.40</td>\n",
       "      <td>zh</td>\n",
       "      <td>97.46</td>\n",
       "    </tr>\n",
       "    <tr>\n",
       "      <th>...</th>\n",
       "      <td>...</td>\n",
       "      <td>...</td>\n",
       "      <td>...</td>\n",
       "      <td>...</td>\n",
       "      <td>...</td>\n",
       "      <td>...</td>\n",
       "      <td>...</td>\n",
       "      <td>...</td>\n",
       "      <td>...</td>\n",
       "      <td>...</td>\n",
       "      <td>...</td>\n",
       "      <td>...</td>\n",
       "      <td>...</td>\n",
       "      <td>...</td>\n",
       "    </tr>\n",
       "    <tr>\n",
       "      <th>9885</th>\n",
       "      <td>82535 Gay Bypass\\nNew Kathryn, AZ 05190</td>\n",
       "      <td>39 vm</td>\n",
       "      <td>PM</td>\n",
       "      <td>Mozilla/5.0 (Windows NT 5.2) AppleWebKit/5361 ...</td>\n",
       "      <td>Phillips LLC</td>\n",
       "      <td>501816385980</td>\n",
       "      <td>07/26</td>\n",
       "      <td>584</td>\n",
       "      <td>Discover</td>\n",
       "      <td>mitchellricky@hotmail.com</td>\n",
       "      <td>Patent attorney</td>\n",
       "      <td>72.117.117.228</td>\n",
       "      <td>ru</td>\n",
       "      <td>97.63</td>\n",
       "    </tr>\n",
       "    <tr>\n",
       "      <th>9886</th>\n",
       "      <td>037 Kelsey Knolls Suite 020\\nTorresmouth, UT 5...</td>\n",
       "      <td>56 SL</td>\n",
       "      <td>AM</td>\n",
       "      <td>Mozilla/5.0 (Windows NT 5.0) AppleWebKit/5320 ...</td>\n",
       "      <td>Thompson-Moore</td>\n",
       "      <td>4893575931765</td>\n",
       "      <td>09/17</td>\n",
       "      <td>663</td>\n",
       "      <td>JCB 16 digit</td>\n",
       "      <td>samanthasims@hotmail.com</td>\n",
       "      <td>Social worker</td>\n",
       "      <td>55.145.120.78</td>\n",
       "      <td>el</td>\n",
       "      <td>97.36</td>\n",
       "    </tr>\n",
       "    <tr>\n",
       "      <th>9934</th>\n",
       "      <td>52276 Smith Cliffs\\nLake Vanessaview, AL 91791</td>\n",
       "      <td>40 nG</td>\n",
       "      <td>AM</td>\n",
       "      <td>Opera/9.62.(Windows NT 5.0; sl-SI) Presto/2.9....</td>\n",
       "      <td>Clay LLC</td>\n",
       "      <td>5148775191773208</td>\n",
       "      <td>05/23</td>\n",
       "      <td>583</td>\n",
       "      <td>VISA 16 digit</td>\n",
       "      <td>popejames@yahoo.com</td>\n",
       "      <td>Consulting civil engineer</td>\n",
       "      <td>130.63.250.128</td>\n",
       "      <td>el</td>\n",
       "      <td>99.75</td>\n",
       "    </tr>\n",
       "    <tr>\n",
       "      <th>9958</th>\n",
       "      <td>PSC 8781, Box 4214\\nAPO AP 94478</td>\n",
       "      <td>72 Ez</td>\n",
       "      <td>AM</td>\n",
       "      <td>Mozilla/5.0 (iPod; U; CPU iPhone OS 3_0 like M...</td>\n",
       "      <td>Logan, Anderson and Martin</td>\n",
       "      <td>210030902457830</td>\n",
       "      <td>08/24</td>\n",
       "      <td>597</td>\n",
       "      <td>Maestro</td>\n",
       "      <td>reynoldsrick@yahoo.com</td>\n",
       "      <td>Industrial/product designer</td>\n",
       "      <td>26.86.9.173</td>\n",
       "      <td>en</td>\n",
       "      <td>99.86</td>\n",
       "    </tr>\n",
       "    <tr>\n",
       "      <th>9967</th>\n",
       "      <td>409 Holland Drives\\nWhitetown, ME 78654</td>\n",
       "      <td>38 aX</td>\n",
       "      <td>AM</td>\n",
       "      <td>Mozilla/5.0 (compatible; MSIE 9.0; Windows NT ...</td>\n",
       "      <td>Singleton Inc</td>\n",
       "      <td>869944453111857</td>\n",
       "      <td>04/26</td>\n",
       "      <td>602</td>\n",
       "      <td>Diners Club / Carte Blanche</td>\n",
       "      <td>gina95@gmail.com</td>\n",
       "      <td>Television camera operator</td>\n",
       "      <td>120.205.69.231</td>\n",
       "      <td>es</td>\n",
       "      <td>98.42</td>\n",
       "    </tr>\n",
       "  </tbody>\n",
       "</table>\n",
       "<p>505 rows × 14 columns</p>\n",
       "</div>"
      ],
      "text/plain": [
       "                                                Address    Lot AM or PM  \\\n",
       "0     16629 Pace Camp Apt. 448\\nAlexisborough, NE 77...  46 in       PM   \n",
       "9       3795 Dawson Extensions\\nLake Tinafort, ID 88739  15 Ug       AM   \n",
       "10        650 Elizabeth Park\\nLake Maria, LA 13526-2530  65 Yn       PM   \n",
       "23    25292 Shepherd Trail Apt. 798\\nRussellmouth, S...  31 pS       PM   \n",
       "35    93392 Webb Gardens Apt. 220\\nLaurabury, AR 999...  37 om       AM   \n",
       "...                                                 ...    ...      ...   \n",
       "9885            82535 Gay Bypass\\nNew Kathryn, AZ 05190  39 vm       PM   \n",
       "9886  037 Kelsey Knolls Suite 020\\nTorresmouth, UT 5...  56 SL       AM   \n",
       "9934     52276 Smith Cliffs\\nLake Vanessaview, AL 91791  40 nG       AM   \n",
       "9958                   PSC 8781, Box 4214\\nAPO AP 94478  72 Ez       AM   \n",
       "9967            409 Holland Drives\\nWhitetown, ME 78654  38 aX       AM   \n",
       "\n",
       "                                           Browser Info  \\\n",
       "0     Opera/9.56.(X11; Linux x86_64; sl-SI) Presto/2...   \n",
       "9     Mozilla/5.0 (X11; Linux i686; rv:1.9.7.20) Gec...   \n",
       "10    Mozilla/5.0 (iPod; U; CPU iPhone OS 4_1 like M...   \n",
       "23    Mozilla/5.0 (compatible; MSIE 5.0; Windows 98;...   \n",
       "35    Mozilla/5.0 (Macintosh; U; Intel Mac OS X 10_7...   \n",
       "...                                                 ...   \n",
       "9885  Mozilla/5.0 (Windows NT 5.2) AppleWebKit/5361 ...   \n",
       "9886  Mozilla/5.0 (Windows NT 5.0) AppleWebKit/5320 ...   \n",
       "9934  Opera/9.62.(Windows NT 5.0; sl-SI) Presto/2.9....   \n",
       "9958  Mozilla/5.0 (iPod; U; CPU iPhone OS 3_0 like M...   \n",
       "9967  Mozilla/5.0 (compatible; MSIE 9.0; Windows NT ...   \n",
       "\n",
       "                               Company       Credit Card CC Exp Date  \\\n",
       "0                      Martinez-Herman  6011929061123406       02/20   \n",
       "9         Rivera, Buchanan and Ramirez     4396283918371       01/17   \n",
       "10    Strickland, Michael and Gonzales   180036417827355       02/17   \n",
       "23                            Cruz Inc      502010078983       02/23   \n",
       "35                            Mora Ltd  6011049630969815       09/16   \n",
       "...                                ...               ...         ...   \n",
       "9885                      Phillips LLC      501816385980       07/26   \n",
       "9886                    Thompson-Moore     4893575931765       09/17   \n",
       "9934                          Clay LLC  5148775191773208       05/23   \n",
       "9958        Logan, Anderson and Martin   210030902457830       08/24   \n",
       "9967                     Singleton Inc   869944453111857       04/26   \n",
       "\n",
       "      CC Security Code                  CC Provider  \\\n",
       "0                  900                 JCB 16 digit   \n",
       "9                  931             American Express   \n",
       "10                 754                      Voyager   \n",
       "23                  60                VISA 13 digit   \n",
       "35                 367                   Mastercard   \n",
       "...                ...                          ...   \n",
       "9885               584                     Discover   \n",
       "9886               663                 JCB 16 digit   \n",
       "9934               583                VISA 16 digit   \n",
       "9958               597                      Maestro   \n",
       "9967               602  Diners Club / Carte Blanche   \n",
       "\n",
       "                            Email                                     Job  \\\n",
       "0               pdunlap@yahoo.com  Scientist, product/process development   \n",
       "9        qcoleman@hunt-huerta.com                      Forensic scientist   \n",
       "10           ustewart@hotmail.com           Development worker, community   \n",
       "23    ltaylor@gardner-meadows.com                      Field seismologist   \n",
       "35         hgonzalez@mcdowell.com             Lecturer, further education   \n",
       "...                           ...                                     ...   \n",
       "9885    mitchellricky@hotmail.com                         Patent attorney   \n",
       "9886     samanthasims@hotmail.com                           Social worker   \n",
       "9934          popejames@yahoo.com               Consulting civil engineer   \n",
       "9958       reynoldsrick@yahoo.com             Industrial/product designer   \n",
       "9967             gina95@gmail.com              Television camera operator   \n",
       "\n",
       "           IP Address Language  Purchase Price  \n",
       "0     149.146.147.205       el           98.14  \n",
       "9       236.198.199.8       zh           95.63  \n",
       "10         26.59.93.1       el           96.89  \n",
       "23     25.193.145.116       ru           97.97  \n",
       "35       216.23.95.40       zh           97.46  \n",
       "...               ...      ...             ...  \n",
       "9885   72.117.117.228       ru           97.63  \n",
       "9886    55.145.120.78       el           97.36  \n",
       "9934   130.63.250.128       el           99.75  \n",
       "9958      26.86.9.173       en           99.86  \n",
       "9967   120.205.69.231       es           98.42  \n",
       "\n",
       "[505 rows x 14 columns]"
      ]
     },
     "execution_count": 101,
     "metadata": {},
     "output_type": "execute_result"
    }
   ],
   "source": [
    "ecom[ecom[\"Purchase Price\"] > 95]"
   ]
  },
  {
   "cell_type": "code",
   "execution_count": 127,
   "id": "3c45b054",
   "metadata": {},
   "outputs": [
    {
     "data": {
      "text/plain": [
       "Address             1033\n",
       "Lot                 1033\n",
       "AM or PM            1033\n",
       "Browser Info        1033\n",
       "Company             1033\n",
       "Credit Card         1033\n",
       "CC Exp Date         1033\n",
       "CC Security Code    1033\n",
       "CC Provider         1033\n",
       "Email               1033\n",
       "Job                 1033\n",
       "IP Address          1033\n",
       "Language            1033\n",
       "Purchase Price      1033\n",
       "dtype: int64"
      ]
     },
     "execution_count": 127,
     "metadata": {},
     "output_type": "execute_result"
    }
   ],
   "source": [
    "ecom[ecom['CC Exp Date'].str.split(\"/\").str.get(1) == \"25\"]"
   ]
  },
  {
   "cell_type": "code",
   "execution_count": 130,
   "id": "a4785f37",
   "metadata": {},
   "outputs": [
    {
     "data": {
      "text/plain": [
       "Address             39\n",
       "Lot                 39\n",
       "AM or PM            39\n",
       "Browser Info        39\n",
       "Company             39\n",
       "Credit Card         39\n",
       "CC Exp Date         39\n",
       "CC Security Code    39\n",
       "CC Provider         39\n",
       "Email               39\n",
       "Job                 39\n",
       "IP Address          39\n",
       "Language            39\n",
       "Purchase Price      39\n",
       "dtype: int64"
      ]
     },
     "execution_count": 130,
     "metadata": {},
     "output_type": "execute_result"
    }
   ],
   "source": [
    "ecom[(ecom[\"CC Provider\"] == \"American Express\")&( ecom[\"Purchase Price\"] > 95)].count()"
   ]
  },
  {
   "cell_type": "code",
   "execution_count": 1,
   "id": "48796523",
   "metadata": {},
   "outputs": [
    {
     "ename": "SyntaxError",
     "evalue": "invalid syntax (3215133758.py, line 1)",
     "output_type": "error",
     "traceback": [
      "\u001b[1;36m  File \u001b[1;32m\"C:\\Users\\ي\\AppData\\Local\\Temp\\ipykernel_17100\\3215133758.py\"\u001b[1;36m, line \u001b[1;32m1\u001b[0m\n\u001b[1;33m    ecom[(coulmn name, الشرط الي ابغا)&( coulmn name, الشرط الي ابغا)]\u001b[0m\n\u001b[1;37m                 ^\u001b[0m\n\u001b[1;31mSyntaxError\u001b[0m\u001b[1;31m:\u001b[0m invalid syntax\n"
     ]
    }
   ],
   "source": [
    "ecom[(coulmn name, الشرط الي ابغا)&( coulmn name, الشرط الي ابغا)]\n",
    "# the basic it is like this\n",
    "ecom[()&()]"
   ]
  },
  {
   "cell_type": "code",
   "execution_count": null,
   "id": "19bfd53b",
   "metadata": {},
   "outputs": [],
   "source": []
  }
 ],
 "metadata": {
  "kernelspec": {
   "display_name": "Python 3 (ipykernel)",
   "language": "python",
   "name": "python3"
  },
  "language_info": {
   "codemirror_mode": {
    "name": "ipython",
    "version": 3
   },
   "file_extension": ".py",
   "mimetype": "text/x-python",
   "name": "python",
   "nbconvert_exporter": "python",
   "pygments_lexer": "ipython3",
   "version": "3.9.13"
  }
 },
 "nbformat": 4,
 "nbformat_minor": 5
}
